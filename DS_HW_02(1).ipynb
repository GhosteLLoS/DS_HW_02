{
 "cells": [
  {
   "cell_type": "code",
   "execution_count": null,
   "id": "0ef7c828-582a-4b44-b184-c5031db35fc3",
   "metadata": {},
   "outputs": [],
   "source": [
    "№1 Вивести перші рядки таблиці за допомогою методу head"
   ]
  },
  {
   "cell_type": "code",
   "execution_count": 2,
   "id": "51e83e02-53fd-431c-ab8b-4629b3f11f03",
   "metadata": {},
   "outputs": [
    {
     "data": {
      "text/html": [
       "<div>\n",
       "<style scoped>\n",
       "    .dataframe tbody tr th:only-of-type {\n",
       "        vertical-align: middle;\n",
       "    }\n",
       "\n",
       "    .dataframe tbody tr th {\n",
       "        vertical-align: top;\n",
       "    }\n",
       "\n",
       "    .dataframe thead th {\n",
       "        text-align: right;\n",
       "    }\n",
       "</style>\n",
       "<table border=\"1\" class=\"dataframe\">\n",
       "  <thead>\n",
       "    <tr style=\"text-align: right;\">\n",
       "      <th></th>\n",
       "      <th>Регіон</th>\n",
       "      <th>1950</th>\n",
       "      <th>1960</th>\n",
       "      <th>1970</th>\n",
       "      <th>1990</th>\n",
       "      <th>2000</th>\n",
       "      <th>2012</th>\n",
       "      <th>2014</th>\n",
       "      <th>2019</th>\n",
       "    </tr>\n",
       "  </thead>\n",
       "  <tbody>\n",
       "    <tr>\n",
       "      <th>0</th>\n",
       "      <td>Крим</td>\n",
       "      <td>230.0</td>\n",
       "      <td>206.0</td>\n",
       "      <td>160.0</td>\n",
       "      <td>130</td>\n",
       "      <td>73</td>\n",
       "      <td>126</td>\n",
       "      <td>—</td>\n",
       "      <td>—</td>\n",
       "    </tr>\n",
       "    <tr>\n",
       "      <th>1</th>\n",
       "      <td>Вінницька</td>\n",
       "      <td>224.0</td>\n",
       "      <td>192.0</td>\n",
       "      <td>142.0</td>\n",
       "      <td>124</td>\n",
       "      <td>84</td>\n",
       "      <td>112</td>\n",
       "      <td>109</td>\n",
       "      <td>76</td>\n",
       "    </tr>\n",
       "    <tr>\n",
       "      <th>2</th>\n",
       "      <td>Волинська</td>\n",
       "      <td>247.0</td>\n",
       "      <td>250.0</td>\n",
       "      <td>179.0</td>\n",
       "      <td>153</td>\n",
       "      <td>112</td>\n",
       "      <td>148</td>\n",
       "      <td>141</td>\n",
       "      <td>101</td>\n",
       "    </tr>\n",
       "    <tr>\n",
       "      <th>3</th>\n",
       "      <td>Дніпропетровська</td>\n",
       "      <td>204.0</td>\n",
       "      <td>204.0</td>\n",
       "      <td>151.0</td>\n",
       "      <td>123</td>\n",
       "      <td>71</td>\n",
       "      <td>112</td>\n",
       "      <td>111</td>\n",
       "      <td>71</td>\n",
       "    </tr>\n",
       "    <tr>\n",
       "      <th>4</th>\n",
       "      <td>Донецька</td>\n",
       "      <td>271.0</td>\n",
       "      <td>214.0</td>\n",
       "      <td>140.0</td>\n",
       "      <td>109</td>\n",
       "      <td>61</td>\n",
       "      <td>98</td>\n",
       "      <td>82</td>\n",
       "      <td>—</td>\n",
       "    </tr>\n",
       "  </tbody>\n",
       "</table>\n",
       "</div>"
      ],
      "text/plain": [
       "             Регіон   1950   1960   1970  1990  2000  2012 2014 2019\n",
       "0              Крим  230.0  206.0  160.0   130    73   126    —    —\n",
       "1         Вінницька  224.0  192.0  142.0   124    84   112  109   76\n",
       "2         Волинська  247.0  250.0  179.0   153   112   148  141  101\n",
       "3  Дніпропетровська  204.0  204.0  151.0   123    71   112  111   71\n",
       "4          Донецька  271.0  214.0  140.0   109    61    98   82    —"
      ]
     },
     "execution_count": 2,
     "metadata": {},
     "output_type": "execute_result"
    }
   ],
   "source": [
    "import matplotlib.pyplot as plt\n",
    "import pandas as pd\n",
    "\n",
    "\n",
    "\n",
    "url = \"https://uk.wikipedia.org/wiki/%D0%9D%D0%B0%D1%81%D0%B5%D0%BB%D0%B5%D0%BD%D0%BD%D1%8F_%D0%A3%D0%BA%D1%80%D0%B0%D1%97%D0%BD%D0%B8\"\n",
    "table = pd.read_html(url, match=\"Коефіцієнт народжуваності [у|в] регіонах України .*\")\n",
    "df = pd.DataFrame(table[0])\n",
    "df.head()"
   ]
  },
  {
   "cell_type": "code",
   "execution_count": null,
   "id": "7e7a54a9-7569-45de-a981-3765282b761e",
   "metadata": {},
   "outputs": [],
   "source": [
    "№2 Визначте кількість рядків та стовпців у датафреймі (атрибут shape)"
   ]
  },
  {
   "cell_type": "code",
   "execution_count": 3,
   "id": "71d2c24c-17e0-4a93-bbd0-ad24d342888d",
   "metadata": {},
   "outputs": [
    {
     "name": "stdout",
     "output_type": "stream",
     "text": [
      "Рядов: 28\n",
      "Столбцов: 9\n"
     ]
    }
   ],
   "source": [
    "rows, columns = df.shape\n",
    "\n",
    "print(f\"Рядов: {rows}\")\n",
    "print(f\"Столбцов: {columns}\")"
   ]
  },
  {
   "cell_type": "code",
   "execution_count": null,
   "id": "36aa0db6-ed41-40e8-af9c-d0d77cc45d3a",
   "metadata": {},
   "outputs": [],
   "source": [
    "№3 Замініть у таблиці значення \"—\" на значення NaN"
   ]
  },
  {
   "cell_type": "code",
   "execution_count": 4,
   "id": "e668328d-0dc2-4201-afd3-9b176d86ba0e",
   "metadata": {},
   "outputs": [
    {
     "name": "stdout",
     "output_type": "stream",
     "text": [
      "               Регіон   1950   1960   1970  1990  2000  2012 2014 2019\n",
      "0                Крим  230.0  206.0  160.0   130    73   126  NaN  NaN\n",
      "1           Вінницька  224.0  192.0  142.0   124    84   112  109   76\n",
      "2           Волинська  247.0  250.0  179.0   153   112   148  141  101\n",
      "3    Дніпропетровська  204.0  204.0  151.0   123    71   112  111   71\n",
      "4            Донецька  271.0  214.0  140.0   109    61    98   82  NaN\n",
      "5         Житомирська  261.0  223.0  159.0   129    89   122  120   79\n",
      "6        Закарпатська  314.0  273.0  207.0   168   115   151  146  104\n",
      "7          Запорізька  219.0  197.0  150.0   124    71   106  106   68\n",
      "8   Івано-Франківська  243.0  248.0  182.0   155   103   124  122   88\n",
      "9            Київська  204.0  189.0  156.0   123    73   122  121   80\n",
      "10     Кіровоградська  216.0  171.0  145.0   126    79   110  108   68\n",
      "11          Луганська  262.0  235.0  144.0   116    62    96   51  NaN\n",
      "12          Львівська  234.0  240.0  171.0   140    91   119  119   87\n",
      "13       Миколаївська  211.0  194.0  155.0   137    80   115  112   71\n",
      "14            Одеська  241.0  192.0  148.0   126    80   127  123   88\n",
      "15         Полтавська  186.0  163.0  131.0   118    70    99  100   65\n",
      "16         Рівненська  269.0  267.0  193.0   158   118   159  148  107\n",
      "17            Сумська  216.0  184.0  132.0   115    70    97   92   60\n",
      "18      Тернопільська  213.0  216.0  157.0   142    92   113  109   76\n",
      "19         Харківська  197.0  173.0  140.0   114    68    99  101   68\n",
      "20         Херсонська  208.0  214.0  166.0   143    85   117  115   81\n",
      "21        Хмельницька  234.0  198.0  148.0   129    85   113  112   79\n",
      "22          Черкаська  205.0  179.0  144.0   123    75   100   98   64\n",
      "23        Чернівецька  247.0  218.0  170.0   148   101   128  129   92\n",
      "24       Чернігівська  220.0  183.0  127.0   108    69    94   90   61\n",
      "25               Київ    NaN  174.0  159.0   120    73   120  121  110\n",
      "26        Севастополь    NaN    NaN    NaN   125    70   120  NaN  NaN\n",
      "27            Україна  228.0  205.0  152.0   126    78   114  111   81\n"
     ]
    }
   ],
   "source": [
    "df = df.replace('—', 'NaN')\n",
    "print(df)"
   ]
  },
  {
   "cell_type": "code",
   "execution_count": null,
   "id": "22badbc2-4f6b-49e6-a6f4-4d3947886b19",
   "metadata": {},
   "outputs": [],
   "source": [
    "№4 Визначте типи всіх стовпців за допомогою dataframe.dtypes"
   ]
  },
  {
   "cell_type": "code",
   "execution_count": 5,
   "id": "3fb0e7b1-36d8-412d-bdc8-1090a129f327",
   "metadata": {},
   "outputs": [
    {
     "data": {
      "text/plain": [
       "Регіон     object\n",
       "1950      float64\n",
       "1960      float64\n",
       "1970      float64\n",
       "1990        int64\n",
       "2000        int64\n",
       "2012        int64\n",
       "2014       object\n",
       "2019       object\n",
       "dtype: object"
      ]
     },
     "execution_count": 5,
     "metadata": {},
     "output_type": "execute_result"
    }
   ],
   "source": [
    "df.dtypes"
   ]
  },
  {
   "cell_type": "code",
   "execution_count": null,
   "id": "806ce1a4-6a77-4556-af39-c27a4d269d2b",
   "metadata": {},
   "outputs": [],
   "source": [
    "№5 Замініть типи нечислових колонок на числові. Підказка - це колонки, де знаходився символ \"—\""
   ]
  },
  {
   "cell_type": "code",
   "execution_count": 6,
   "id": "2aeb27de-88cf-4f7b-a453-83f80b4ac2e8",
   "metadata": {},
   "outputs": [
    {
     "name": "stdout",
     "output_type": "stream",
     "text": [
      "Регіон     object\n",
      "1950      float64\n",
      "1960      float64\n",
      "1970      float64\n",
      "1990        int64\n",
      "2000        int64\n",
      "2012        int64\n",
      "2014      float64\n",
      "2019      float64\n",
      "dtype: object\n"
     ]
    }
   ],
   "source": [
    "df['2014'] = df['2014'].astype('float64')\n",
    "df['2019'] = df['2019'].astype('float64')\n",
    "print(df.dtypes)"
   ]
  },
  {
   "cell_type": "code",
   "execution_count": null,
   "id": "d9794f1e-c0a1-4abf-b23c-ebb6d9bc5b32",
   "metadata": {},
   "outputs": [],
   "source": [
    "№6 Порахуйте, яка частка пропусків міститься в кожній колонці (використовуйте методи isnull та sum)"
   ]
  },
  {
   "cell_type": "code",
   "execution_count": 7,
   "id": "1d7c4988-021d-4527-aa2e-5482df35da46",
   "metadata": {},
   "outputs": [
    {
     "data": {
      "text/plain": [
       "Регіон     0.000000\n",
       "1950       7.142857\n",
       "1960       3.571429\n",
       "1970       3.571429\n",
       "1990       0.000000\n",
       "2000       0.000000\n",
       "2012       0.000000\n",
       "2014       7.142857\n",
       "2019      14.285714\n",
       "dtype: float64"
      ]
     },
     "execution_count": 7,
     "metadata": {},
     "output_type": "execute_result"
    }
   ],
   "source": [
    "(df.isnull().sum() / len(df)) * 100"
   ]
  },
  {
   "cell_type": "code",
   "execution_count": null,
   "id": "98b4f846-4f93-4f41-ad96-91497d2a793e",
   "metadata": {},
   "outputs": [],
   "source": [
    "№7 Видаліть з таблиці дані по всій країні, останній рядок таблиці"
   ]
  },
  {
   "cell_type": "code",
   "execution_count": 8,
   "id": "ae661278-dbcc-4743-87d5-cd46baf0460d",
   "metadata": {},
   "outputs": [
    {
     "name": "stdout",
     "output_type": "stream",
     "text": [
      "               Регіон   1950   1960   1970  1990  2000  2012   2014   2019\n",
      "0                Крим  230.0  206.0  160.0   130    73   126    NaN    NaN\n",
      "1           Вінницька  224.0  192.0  142.0   124    84   112  109.0   76.0\n",
      "2           Волинська  247.0  250.0  179.0   153   112   148  141.0  101.0\n",
      "3    Дніпропетровська  204.0  204.0  151.0   123    71   112  111.0   71.0\n",
      "4            Донецька  271.0  214.0  140.0   109    61    98   82.0    NaN\n",
      "5         Житомирська  261.0  223.0  159.0   129    89   122  120.0   79.0\n",
      "6        Закарпатська  314.0  273.0  207.0   168   115   151  146.0  104.0\n",
      "7          Запорізька  219.0  197.0  150.0   124    71   106  106.0   68.0\n",
      "8   Івано-Франківська  243.0  248.0  182.0   155   103   124  122.0   88.0\n",
      "9            Київська  204.0  189.0  156.0   123    73   122  121.0   80.0\n",
      "10     Кіровоградська  216.0  171.0  145.0   126    79   110  108.0   68.0\n",
      "11          Луганська  262.0  235.0  144.0   116    62    96   51.0    NaN\n",
      "12          Львівська  234.0  240.0  171.0   140    91   119  119.0   87.0\n",
      "13       Миколаївська  211.0  194.0  155.0   137    80   115  112.0   71.0\n",
      "14            Одеська  241.0  192.0  148.0   126    80   127  123.0   88.0\n",
      "15         Полтавська  186.0  163.0  131.0   118    70    99  100.0   65.0\n",
      "16         Рівненська  269.0  267.0  193.0   158   118   159  148.0  107.0\n",
      "17            Сумська  216.0  184.0  132.0   115    70    97   92.0   60.0\n",
      "18      Тернопільська  213.0  216.0  157.0   142    92   113  109.0   76.0\n",
      "19         Харківська  197.0  173.0  140.0   114    68    99  101.0   68.0\n",
      "20         Херсонська  208.0  214.0  166.0   143    85   117  115.0   81.0\n",
      "21        Хмельницька  234.0  198.0  148.0   129    85   113  112.0   79.0\n",
      "22          Черкаська  205.0  179.0  144.0   123    75   100   98.0   64.0\n",
      "23        Чернівецька  247.0  218.0  170.0   148   101   128  129.0   92.0\n",
      "24       Чернігівська  220.0  183.0  127.0   108    69    94   90.0   61.0\n",
      "25               Київ    NaN  174.0  159.0   120    73   120  121.0  110.0\n",
      "26        Севастополь    NaN    NaN    NaN   125    70   120    NaN    NaN\n"
     ]
    }
   ],
   "source": [
    "df.drop(df.index[-1], inplace=True)\n",
    "print(df)"
   ]
  },
  {
   "cell_type": "code",
   "execution_count": null,
   "id": "39977959-8c92-48cc-8e31-c67e2bd20af8",
   "metadata": {},
   "outputs": [],
   "source": [
    "№8 Замініть відсутні дані в стовпцях середніми значеннями цих стовпців (метод fillna)"
   ]
  },
  {
   "cell_type": "code",
   "execution_count": 9,
   "id": "ec5d4d28-1c3e-4b8d-a5c1-4c36d1ba9efa",
   "metadata": {},
   "outputs": [
    {
     "name": "stdout",
     "output_type": "stream",
     "text": [
      "               Регіон    1950    1960   1970  1990  2000  2012    2014    2019\n",
      "0                Крим  230.00  206.00  160.0   130    73   126  111.44   80.17\n",
      "1           Вінницька  224.00  192.00  142.0   124    84   112  109.00   76.00\n",
      "2           Волинська  247.00  250.00  179.0   153   112   148  141.00  101.00\n",
      "3    Дніпропетровська  204.00  204.00  151.0   123    71   112  111.00   71.00\n",
      "4            Донецька  271.00  214.00  140.0   109    61    98   82.00   80.17\n",
      "5         Житомирська  261.00  223.00  159.0   129    89   122  120.00   79.00\n",
      "6        Закарпатська  314.00  273.00  207.0   168   115   151  146.00  104.00\n",
      "7          Запорізька  219.00  197.00  150.0   124    71   106  106.00   68.00\n",
      "8   Івано-Франківська  243.00  248.00  182.0   155   103   124  122.00   88.00\n",
      "9            Київська  204.00  189.00  156.0   123    73   122  121.00   80.00\n",
      "10     Кіровоградська  216.00  171.00  145.0   126    79   110  108.00   68.00\n",
      "11          Луганська  262.00  235.00  144.0   116    62    96   51.00   80.17\n",
      "12          Львівська  234.00  240.00  171.0   140    91   119  119.00   87.00\n",
      "13       Миколаївська  211.00  194.00  155.0   137    80   115  112.00   71.00\n",
      "14            Одеська  241.00  192.00  148.0   126    80   127  123.00   88.00\n",
      "15         Полтавська  186.00  163.00  131.0   118    70    99  100.00   65.00\n",
      "16         Рівненська  269.00  267.00  193.0   158   118   159  148.00  107.00\n",
      "17            Сумська  216.00  184.00  132.0   115    70    97   92.00   60.00\n",
      "18      Тернопільська  213.00  216.00  157.0   142    92   113  109.00   76.00\n",
      "19         Харківська  197.00  173.00  140.0   114    68    99  101.00   68.00\n",
      "20         Херсонська  208.00  214.00  166.0   143    85   117  115.00   81.00\n",
      "21        Хмельницька  234.00  198.00  148.0   129    85   113  112.00   79.00\n",
      "22          Черкаська  205.00  179.00  144.0   123    75   100   98.00   64.00\n",
      "23        Чернівецька  247.00  218.00  170.0   148   101   128  129.00   92.00\n",
      "24       Чернігівська  220.00  183.00  127.0   108    69    94   90.00   61.00\n",
      "25               Київ  231.04  174.00  159.0   120    73   120  121.00  110.00\n",
      "26        Севастополь  231.04  207.58  156.0   125    70   120  111.44   80.17\n"
     ]
    }
   ],
   "source": [
    "df[['1950', '1960', '1970', '2014', '2019']] = df[['1950', '1960', '1970', '2014', '2019']]. fillna (df[['1950', '1960', '1970', '2014', '2019']].mean())\n",
    "df = df.round(2)\n",
    "print(df)"
   ]
  },
  {
   "cell_type": "code",
   "execution_count": null,
   "id": "f6de8c55-2539-42c9-91e9-84141a8bad09",
   "metadata": {},
   "outputs": [],
   "source": [
    "№9 Отримайте список регіонів, де рівень народжуваності у 2019 році був вищим за середній по Україні"
   ]
  },
  {
   "cell_type": "code",
   "execution_count": 10,
   "id": "d6f85e4b-b3b8-4f94-97cc-9b71e61799bb",
   "metadata": {},
   "outputs": [
    {
     "data": {
      "text/plain": [
       "['Волинська',\n",
       " 'Закарпатська',\n",
       " 'Івано-Франківська',\n",
       " 'Львівська',\n",
       " 'Одеська',\n",
       " 'Рівненська',\n",
       " 'Херсонська',\n",
       " 'Чернівецька',\n",
       " 'Київ']"
      ]
     },
     "execution_count": 10,
     "metadata": {},
     "output_type": "execute_result"
    }
   ],
   "source": [
    "year = '2019'\n",
    "column = 'Регіон'\n",
    "condition = df[year] > df.mean(numeric_only=True)[year]\n",
    "df[condition][column].tolist()"
   ]
  },
  {
   "cell_type": "code",
   "execution_count": null,
   "id": "0fbe1348-3eaf-4327-ab7a-fe628215eb97",
   "metadata": {},
   "outputs": [],
   "source": [
    "№10 У якому регіоні була найвища народжуваність у 2014 році?"
   ]
  },
  {
   "cell_type": "code",
   "execution_count": 11,
   "id": "3109c222-3651-44e6-988a-2c88448aab90",
   "metadata": {},
   "outputs": [
    {
     "data": {
      "text/plain": [
       "'Рівненська'"
      ]
     },
     "execution_count": 11,
     "metadata": {},
     "output_type": "execute_result"
    }
   ],
   "source": [
    "year = \"2014\"\n",
    "df.loc[df[year].idxmax(), column]"
   ]
  },
  {
   "cell_type": "code",
   "execution_count": null,
   "id": "1005cf78-6561-4307-898c-645964ad8dfc",
   "metadata": {},
   "outputs": [],
   "source": [
    "№11 Побудуйте стовпчикову діаграму народжуваності по регіонах у 2019 році"
   ]
  },
  {
   "cell_type": "code",
   "execution_count": 13,
   "id": "e3f43453-b133-420a-9b8e-f485a8d11b6e",
   "metadata": {},
   "outputs": [
    {
     "data": {
      "image/png": "[encoded data removed]",
      "text/plain": [
       "<Figure size 640x480 with 1 Axes>"
      ]
     },
     "metadata": {},
     "output_type": "display_data"
    }
   ],
   "source": [
    "plt.bar(df['Регіон'], df['2019'], width= 0.7)\n",
    "plt.title('Коефіцієнт народжуваності в 2019 році')\n",
    "plt.tick_params(labelrotation = 90)\n",
    "plt.show()"
   ]
  },
  {
   "cell_type": "code",
   "execution_count": null,
   "id": "ed8f4f1e-bd8a-416b-b3c3-08821cd92efa",
   "metadata": {},
   "outputs": [],
   "source": []
  }
 ],
 "metadata": {
  "kernelspec": {
   "display_name": "Python 3 (ipykernel)",
   "language": "python",
   "name": "python3"
  },
  "language_info": {
   "codemirror_mode": {
    "name": "ipython",
    "version": 3
   },
   "file_extension": ".py",
   "mimetype": "text/x-python",
   "name": "python",
   "nbconvert_exporter": "python",
   "pygments_lexer": "ipython3",
   "version": "3.11.2"
  }
 },
 "nbformat": 4,
 "nbformat_minor": 5
}
